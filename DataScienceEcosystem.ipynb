{
 "cells": [
  {
   "cell_type": "markdown",
   "id": "54f07f6c-c984-4815-8f3a-feee2f1bd0b1",
   "metadata": {},
   "source": [
    "# Data Science Tools and Ecosystem"
   ]
  },
  {
   "cell_type": "markdown",
   "id": "526066e5-bc3b-4721-a35e-f000db61d5d5",
   "metadata": {},
   "source": [
    "## Author\n",
    "Haritha Unnikrishnan"
   ]
  },
  {
   "cell_type": "markdown",
   "id": "5af548b0-f988-43da-8fee-b46f0cc35b7b",
   "metadata": {},
   "source": [
    "In this notebook, Data Science Tools and Ecosystem are summarized."
   ]
  },
  {
   "cell_type": "markdown",
   "id": "9afdfbec-abeb-4657-ac02-3e82a8f5271b",
   "metadata": {},
   "source": [
    "**Objectives:**\n",
    "- List popular languages for Data Science\n",
    "- List popular libraries used in Data Science\n",
    "- List open source IDEs for Data Science\n",
    "- Create ordered and unordered lists\n",
    "- Create table in markdown\n",
    "- Run basic arithmetic expressions"
   ]
  },
  {
   "cell_type": "markdown",
   "id": "2535f44f-aa83-4d06-9539-54aeb7214fc4",
   "metadata": {},
   "source": [
    "Some of the popular languages that Data Scientists use are:\n",
    "1. Python\n",
    "2. R\n",
    "3. Julia\n",
    "4. Scala"
   ]
  },
  {
   "cell_type": "markdown",
   "id": "e4b5b469-a251-4ca7-abbe-ed9eaead4ca4",
   "metadata": {},
   "source": [
    "Some of the commonly used libraries used by Data Scientists include:\n",
    "1. ggplot\n",
    "2. plotly\n",
    "3. matplotlib\n",
    "4. lattice\n",
    "5. leaflet\n",
    "6. numpy\n",
    "7. scikit-learn"
   ]
  },
  {
   "cell_type": "markdown",
   "id": "9a2fceb2-4e29-4550-aa61-df5d06333fa0",
   "metadata": {},
   "source": [
    "|Data Science Tools|\n",
    "|----|\n",
    "|Jupyter|\n",
    "|R Studio|\n",
    "|PyCharm|"
   ]
  },
  {
   "cell_type": "markdown",
   "id": "2becb41f-55ee-4004-ab03-446a44643097",
   "metadata": {},
   "source": [
    "### Below are a few examples of evaluating arithmetic expressions in Python"
   ]
  },
  {
   "cell_type": "code",
   "execution_count": 9,
   "id": "6e9982c5-b13b-4398-b618-99bb3135afb7",
   "metadata": {},
   "outputs": [
    {
     "data": {
      "text/plain": [
       "17"
      ]
     },
     "execution_count": 9,
     "metadata": {},
     "output_type": "execute_result"
    }
   ],
   "source": [
    "#This a simple arithmetic expression to mutiply then add integers\n",
    "#Expression being evaluated is (3*4)+5\n",
    "(3*4)+5"
   ]
  },
  {
   "cell_type": "code",
   "execution_count": 13,
   "id": "1a665641-0c25-4764-8990-492a642b5fa0",
   "metadata": {},
   "outputs": [
    {
     "data": {
      "text/plain": [
       "3.3333333333333335"
      ]
     },
     "execution_count": 13,
     "metadata": {},
     "output_type": "execute_result"
    }
   ],
   "source": [
    "#This will convert 200 minutes to hours by dividing by 60\n",
    "200/60"
   ]
  },
  {
   "cell_type": "code",
   "execution_count": null,
   "id": "104fbd2b-69ac-4093-a791-28b8e09543df",
   "metadata": {},
   "outputs": [],
   "source": []
  }
 ],
 "metadata": {
  "kernelspec": {
   "display_name": "Python [conda env:base] *",
   "language": "python",
   "name": "conda-base-py"
  },
  "language_info": {
   "codemirror_mode": {
    "name": "ipython",
    "version": 3
   },
   "file_extension": ".py",
   "mimetype": "text/x-python",
   "name": "python",
   "nbconvert_exporter": "python",
   "pygments_lexer": "ipython3",
   "version": "3.12.7"
  }
 },
 "nbformat": 4,
 "nbformat_minor": 5
}
